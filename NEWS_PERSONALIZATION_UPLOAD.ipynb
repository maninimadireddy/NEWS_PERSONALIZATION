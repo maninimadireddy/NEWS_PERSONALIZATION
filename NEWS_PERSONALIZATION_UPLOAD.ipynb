{
 "cells": [
  {
   "cell_type": "markdown",
   "id": "f150441c-bdb6-46ae-94fd-942f21c6b083",
   "metadata": {
    "tags": []
   },
   "source": [
    "## News Personalization: Leveraging RAG for Targeted Content Delivery"
   ]
  },
  {
   "cell_type": "raw",
   "id": "077516bd-4567-4bdb-a816-efb22e13e7d7",
   "metadata": {
    "tags": []
   },
   "source": [
    "This notebook leverages LLMs and RAG for personalized news article retrieval and summarization. \n",
    "\n",
    "There are 3 main steps - \n",
    "1. Extracting the archived news dataset from Kaggle\n",
    "2. Encode and upsert the data into a Vector database. I am using Pinecone for this  \n",
    "   exercise.\n",
    "3. Leveraging RAG for Targeted Content Delivery."
   ]
  },
  {
   "cell_type": "markdown",
   "id": "34b6e831-b4a7-4e4f-b2cd-376666452040",
   "metadata": {
    "jp-MarkdownHeadingCollapsed": true,
    "tags": []
   },
   "source": [
    "## Setup"
   ]
  },
  {
   "cell_type": "code",
   "execution_count": 2,
   "id": "ad3708d4-a087-4ac5-94df-c1fac27e6d8a",
   "metadata": {
    "tags": []
   },
   "outputs": [
    {
     "name": "stdout",
     "output_type": "stream",
     "text": [
      "Requirement already satisfied: pip in /opt/conda/lib/python3.10/site-packages (24.0)\n",
      "\u001b[33mWARNING: Running pip as the 'root' user can result in broken permissions and conflicting behaviour with the system package manager. It is recommended to use a virtual environment instead: https://pip.pypa.io/warnings/venv\u001b[0m\u001b[33m\n",
      "\u001b[0m"
     ]
    }
   ],
   "source": [
    "!pip install --upgrade pip"
   ]
  },
  {
   "cell_type": "code",
   "execution_count": 4,
   "id": "8a5d2461-25b4-49c4-b6fb-f23bbd3ff90b",
   "metadata": {
    "tags": []
   },
   "outputs": [
    {
     "name": "stdout",
     "output_type": "stream",
     "text": [
      "\u001b[33mWARNING: Running pip as the 'root' user can result in broken permissions and conflicting behaviour with the system package manager. It is recommended to use a virtual environment instead: https://pip.pypa.io/warnings/venv\u001b[0m\u001b[33m\n",
      "\u001b[0m"
     ]
    }
   ],
   "source": [
    "!pip install -qU \\\n",
    "    kaggle \\\n",
    "    sagemaker \\\n",
    "    pinecone-client==2.2.1 \\\n",
    "    ipywidgets==7.0.0\\\n",
    "    seaborn\\\n",
    "    sentence-transformers\\\n",
    "    torch==1.13.1 \\\n",
    "    transformers==4.27.2"
   ]
  },
  {
   "cell_type": "markdown",
   "id": "5e8c50d5-f34d-4f0a-b31e-7a66d980f125",
   "metadata": {
    "jp-MarkdownHeadingCollapsed": true,
    "tags": []
   },
   "source": [
    "## 1. Extracting the archived news dataset from Kaggle"
   ]
  },
  {
   "cell_type": "code",
   "execution_count": 4,
   "id": "a0cb7aca-67a7-4c3f-8fcf-f50740da2270",
   "metadata": {
    "tags": []
   },
   "outputs": [
    {
     "name": "stdout",
     "output_type": "stream",
     "text": [
      "\u001b[33mWARNING: Running pip as the 'root' user can result in broken permissions and conflicting behaviour with the system package manager. It is recommended to use a virtual environment instead: https://pip.pypa.io/warnings/venv\u001b[0m\u001b[33m\n",
      "\u001b[0m"
     ]
    }
   ],
   "source": [
    "#!pip install --q kaggle "
   ]
  },
  {
   "cell_type": "markdown",
   "id": "876fd481-0814-439c-a1dd-ed9baa1feed0",
   "metadata": {
    "tags": []
   },
   "source": [
    "[Note: According to kaggle api documentation the location where credentials json is looking for is ~/.kaggle/kaggle.json]"
   ]
  },
  {
   "cell_type": "code",
   "execution_count": 5,
   "id": "7b4f01da-fac8-4a21-98b3-20491dfec9ba",
   "metadata": {
    "tags": []
   },
   "outputs": [
    {
     "name": "stdout",
     "output_type": "stream",
     "text": [
      "mkdir: cannot create directory ‘/root/.kaggle’: File exists\n"
     ]
    }
   ],
   "source": [
    "!mkdir ~/.kaggle\n",
    "!touch ~/.kaggle/kaggle.json"
   ]
  },
  {
   "cell_type": "code",
   "execution_count": 6,
   "id": "23b64dfb-fc21-44e0-9afc-8cb35a151164",
   "metadata": {
    "tags": []
   },
   "outputs": [],
   "source": [
    "api_token={\"username\":\"abc\",\"key\":\"1234\"}"
   ]
  },
  {
   "cell_type": "code",
   "execution_count": 7,
   "id": "7f376404-c82f-4cfc-bf1f-8452e8881781",
   "metadata": {
    "tags": []
   },
   "outputs": [],
   "source": [
    "import json\n",
    "import os\n",
    "\n",
    "with open('/root/.kaggle/kaggle.json', 'w') as file:\n",
    "    json.dump(api_token, file)\n",
    "\n",
    "!chmod 600 ~/.kaggle/kaggle.json"
   ]
  },
  {
   "cell_type": "code",
   "execution_count": 10,
   "id": "6e4cfccc-91d0-401f-9bc0-874599a5d6bc",
   "metadata": {
    "tags": []
   },
   "outputs": [
    {
     "name": "stdout",
     "output_type": "stream",
     "text": [
      "Downloading news-category-dataset.zip to /root/RAG\n",
      " 94%|███████████████████████████████████▊  | 25.0M/26.5M [00:01<00:00, 26.6MB/s]\n",
      "100%|██████████████████████████████████████| 26.5M/26.5M [00:01<00:00, 22.6MB/s]\n"
     ]
    }
   ],
   "source": [
    "!kaggle datasets download -d rmisra/news-category-dataset --unzip"
   ]
  },
  {
   "cell_type": "code",
   "execution_count": 11,
   "id": "9af6b2dc-7366-49f3-9fdf-975bab65ab4f",
   "metadata": {
    "tags": []
   },
   "outputs": [
    {
     "data": {
      "text/plain": [
       "'/root/RAG/Data/News_Category_Dataset_v3.json'"
      ]
     },
     "execution_count": 11,
     "metadata": {},
     "output_type": "execute_result"
    }
   ],
   "source": [
    "os.getcwd()+\"/Data/News_Category_Dataset_v3.json\""
   ]
  },
  {
   "cell_type": "markdown",
   "id": "6b56dd95-d222-4683-bbe5-f564d9e4ec94",
   "metadata": {
    "tags": []
   },
   "source": [
    "### READ IN THE DATASET"
   ]
  },
  {
   "cell_type": "code",
   "execution_count": 52,
   "id": "59666ba7-286d-4a75-beb1-b3e360b5263d",
   "metadata": {
    "tags": []
   },
   "outputs": [
    {
     "name": "stdout",
     "output_type": "stream",
     "text": [
      "(209527, 6)\n"
     ]
    },
    {
     "data": {
      "text/html": [
       "<div>\n",
       "<style scoped>\n",
       "    .dataframe tbody tr th:only-of-type {\n",
       "        vertical-align: middle;\n",
       "    }\n",
       "\n",
       "    .dataframe tbody tr th {\n",
       "        vertical-align: top;\n",
       "    }\n",
       "\n",
       "    .dataframe thead th {\n",
       "        text-align: right;\n",
       "    }\n",
       "</style>\n",
       "<table border=\"1\" class=\"dataframe\">\n",
       "  <thead>\n",
       "    <tr style=\"text-align: right;\">\n",
       "      <th></th>\n",
       "      <th>link</th>\n",
       "      <th>headline</th>\n",
       "      <th>category</th>\n",
       "      <th>short_description</th>\n",
       "      <th>authors</th>\n",
       "      <th>date</th>\n",
       "    </tr>\n",
       "  </thead>\n",
       "  <tbody>\n",
       "    <tr>\n",
       "      <th>0</th>\n",
       "      <td>https://www.huffpost.com/entry/covid-boosters-...</td>\n",
       "      <td>Over 4 Million Americans Roll Up Sleeves For O...</td>\n",
       "      <td>U.S. NEWS</td>\n",
       "      <td>Health experts said it is too early to predict...</td>\n",
       "      <td>Carla K. Johnson, AP</td>\n",
       "      <td>2022-09-23</td>\n",
       "    </tr>\n",
       "    <tr>\n",
       "      <th>1</th>\n",
       "      <td>https://www.huffpost.com/entry/american-airlin...</td>\n",
       "      <td>American Airlines Flyer Charged, Banned For Li...</td>\n",
       "      <td>U.S. NEWS</td>\n",
       "      <td>He was subdued by passengers and crew when he ...</td>\n",
       "      <td>Mary Papenfuss</td>\n",
       "      <td>2022-09-23</td>\n",
       "    </tr>\n",
       "    <tr>\n",
       "      <th>2</th>\n",
       "      <td>https://www.huffpost.com/entry/funniest-tweets...</td>\n",
       "      <td>23 Of The Funniest Tweets About Cats And Dogs ...</td>\n",
       "      <td>COMEDY</td>\n",
       "      <td>\"Until you have a dog you don't understand wha...</td>\n",
       "      <td>Elyse Wanshel</td>\n",
       "      <td>2022-09-23</td>\n",
       "    </tr>\n",
       "    <tr>\n",
       "      <th>3</th>\n",
       "      <td>https://www.huffpost.com/entry/funniest-parent...</td>\n",
       "      <td>The Funniest Tweets From Parents This Week (Se...</td>\n",
       "      <td>PARENTING</td>\n",
       "      <td>\"Accidentally put grown-up toothpaste on my to...</td>\n",
       "      <td>Caroline Bologna</td>\n",
       "      <td>2022-09-23</td>\n",
       "    </tr>\n",
       "    <tr>\n",
       "      <th>4</th>\n",
       "      <td>https://www.huffpost.com/entry/amy-cooper-lose...</td>\n",
       "      <td>Woman Who Called Cops On Black Bird-Watcher Lo...</td>\n",
       "      <td>U.S. NEWS</td>\n",
       "      <td>Amy Cooper accused investment firm Franklin Te...</td>\n",
       "      <td>Nina Golgowski</td>\n",
       "      <td>2022-09-22</td>\n",
       "    </tr>\n",
       "    <tr>\n",
       "      <th>...</th>\n",
       "      <td>...</td>\n",
       "      <td>...</td>\n",
       "      <td>...</td>\n",
       "      <td>...</td>\n",
       "      <td>...</td>\n",
       "      <td>...</td>\n",
       "    </tr>\n",
       "    <tr>\n",
       "      <th>209522</th>\n",
       "      <td>https://www.huffingtonpost.com/entry/rim-ceo-t...</td>\n",
       "      <td>RIM CEO Thorsten Heins' 'Significant' Plans Fo...</td>\n",
       "      <td>TECH</td>\n",
       "      <td>Verizon Wireless and AT&amp;T are already promotin...</td>\n",
       "      <td>Reuters, Reuters</td>\n",
       "      <td>2012-01-28</td>\n",
       "    </tr>\n",
       "    <tr>\n",
       "      <th>209523</th>\n",
       "      <td>https://www.huffingtonpost.com/entry/maria-sha...</td>\n",
       "      <td>Maria Sharapova Stunned By Victoria Azarenka I...</td>\n",
       "      <td>SPORTS</td>\n",
       "      <td>Afterward, Azarenka, more effusive with the pr...</td>\n",
       "      <td></td>\n",
       "      <td>2012-01-28</td>\n",
       "    </tr>\n",
       "    <tr>\n",
       "      <th>209524</th>\n",
       "      <td>https://www.huffingtonpost.com/entry/super-bow...</td>\n",
       "      <td>Giants Over Patriots, Jets Over Colts Among  M...</td>\n",
       "      <td>SPORTS</td>\n",
       "      <td>Leading up to Super Bowl XLVI, the most talked...</td>\n",
       "      <td></td>\n",
       "      <td>2012-01-28</td>\n",
       "    </tr>\n",
       "    <tr>\n",
       "      <th>209525</th>\n",
       "      <td>https://www.huffingtonpost.com/entry/aldon-smi...</td>\n",
       "      <td>Aldon Smith Arrested: 49ers Linebacker Busted ...</td>\n",
       "      <td>SPORTS</td>\n",
       "      <td>CORRECTION: An earlier version of this story i...</td>\n",
       "      <td></td>\n",
       "      <td>2012-01-28</td>\n",
       "    </tr>\n",
       "    <tr>\n",
       "      <th>209526</th>\n",
       "      <td>https://www.huffingtonpost.com/entry/dwight-ho...</td>\n",
       "      <td>Dwight Howard Rips Teammates After Magic Loss ...</td>\n",
       "      <td>SPORTS</td>\n",
       "      <td>The five-time all-star center tore into his te...</td>\n",
       "      <td></td>\n",
       "      <td>2012-01-28</td>\n",
       "    </tr>\n",
       "  </tbody>\n",
       "</table>\n",
       "<p>209527 rows × 6 columns</p>\n",
       "</div>"
      ],
      "text/plain": [
       "                                                     link  \\\n",
       "0       https://www.huffpost.com/entry/covid-boosters-...   \n",
       "1       https://www.huffpost.com/entry/american-airlin...   \n",
       "2       https://www.huffpost.com/entry/funniest-tweets...   \n",
       "3       https://www.huffpost.com/entry/funniest-parent...   \n",
       "4       https://www.huffpost.com/entry/amy-cooper-lose...   \n",
       "...                                                   ...   \n",
       "209522  https://www.huffingtonpost.com/entry/rim-ceo-t...   \n",
       "209523  https://www.huffingtonpost.com/entry/maria-sha...   \n",
       "209524  https://www.huffingtonpost.com/entry/super-bow...   \n",
       "209525  https://www.huffingtonpost.com/entry/aldon-smi...   \n",
       "209526  https://www.huffingtonpost.com/entry/dwight-ho...   \n",
       "\n",
       "                                                 headline   category  \\\n",
       "0       Over 4 Million Americans Roll Up Sleeves For O...  U.S. NEWS   \n",
       "1       American Airlines Flyer Charged, Banned For Li...  U.S. NEWS   \n",
       "2       23 Of The Funniest Tweets About Cats And Dogs ...     COMEDY   \n",
       "3       The Funniest Tweets From Parents This Week (Se...  PARENTING   \n",
       "4       Woman Who Called Cops On Black Bird-Watcher Lo...  U.S. NEWS   \n",
       "...                                                   ...        ...   \n",
       "209522  RIM CEO Thorsten Heins' 'Significant' Plans Fo...       TECH   \n",
       "209523  Maria Sharapova Stunned By Victoria Azarenka I...     SPORTS   \n",
       "209524  Giants Over Patriots, Jets Over Colts Among  M...     SPORTS   \n",
       "209525  Aldon Smith Arrested: 49ers Linebacker Busted ...     SPORTS   \n",
       "209526  Dwight Howard Rips Teammates After Magic Loss ...     SPORTS   \n",
       "\n",
       "                                        short_description  \\\n",
       "0       Health experts said it is too early to predict...   \n",
       "1       He was subdued by passengers and crew when he ...   \n",
       "2       \"Until you have a dog you don't understand wha...   \n",
       "3       \"Accidentally put grown-up toothpaste on my to...   \n",
       "4       Amy Cooper accused investment firm Franklin Te...   \n",
       "...                                                   ...   \n",
       "209522  Verizon Wireless and AT&T are already promotin...   \n",
       "209523  Afterward, Azarenka, more effusive with the pr...   \n",
       "209524  Leading up to Super Bowl XLVI, the most talked...   \n",
       "209525  CORRECTION: An earlier version of this story i...   \n",
       "209526  The five-time all-star center tore into his te...   \n",
       "\n",
       "                     authors       date  \n",
       "0       Carla K. Johnson, AP 2022-09-23  \n",
       "1             Mary Papenfuss 2022-09-23  \n",
       "2              Elyse Wanshel 2022-09-23  \n",
       "3           Caroline Bologna 2022-09-23  \n",
       "4             Nina Golgowski 2022-09-22  \n",
       "...                      ...        ...  \n",
       "209522      Reuters, Reuters 2012-01-28  \n",
       "209523                       2012-01-28  \n",
       "209524                       2012-01-28  \n",
       "209525                       2012-01-28  \n",
       "209526                       2012-01-28  \n",
       "\n",
       "[209527 rows x 6 columns]"
      ]
     },
     "execution_count": 52,
     "metadata": {},
     "output_type": "execute_result"
    }
   ],
   "source": [
    "import os\n",
    "import pandas as pd\n",
    "\n",
    "df = pd.read_json(os.getcwd()+\"/Data/News_Category_Dataset_v3.json\",\n",
    "                 lines=True)\n",
    "print(df.shape)\n",
    "df"
   ]
  },
  {
   "cell_type": "code",
   "execution_count": 55,
   "id": "a3d52711-6534-491d-94b6-2df6cd80e65c",
   "metadata": {
    "tags": []
   },
   "outputs": [
    {
     "data": {
      "text/html": [
       "<div>\n",
       "<style scoped>\n",
       "    .dataframe tbody tr th:only-of-type {\n",
       "        vertical-align: middle;\n",
       "    }\n",
       "\n",
       "    .dataframe tbody tr th {\n",
       "        vertical-align: top;\n",
       "    }\n",
       "\n",
       "    .dataframe thead th {\n",
       "        text-align: right;\n",
       "    }\n",
       "</style>\n",
       "<table border=\"1\" class=\"dataframe\">\n",
       "  <thead>\n",
       "    <tr style=\"text-align: right;\">\n",
       "      <th></th>\n",
       "      <th>category</th>\n",
       "      <th>_num_articles</th>\n",
       "      <th>_min_dt</th>\n",
       "      <th>_max_dt</th>\n",
       "    </tr>\n",
       "  </thead>\n",
       "  <tbody>\n",
       "    <tr>\n",
       "      <th>24</th>\n",
       "      <td>POLITICS</td>\n",
       "      <td>35602</td>\n",
       "      <td>2014-04-18</td>\n",
       "      <td>2022-09-19</td>\n",
       "    </tr>\n",
       "    <tr>\n",
       "      <th>38</th>\n",
       "      <td>WELLNESS</td>\n",
       "      <td>17945</td>\n",
       "      <td>2012-01-28</td>\n",
       "      <td>2022-08-30</td>\n",
       "    </tr>\n",
       "    <tr>\n",
       "      <th>10</th>\n",
       "      <td>ENTERTAINMENT</td>\n",
       "      <td>17362</td>\n",
       "      <td>2012-01-28</td>\n",
       "      <td>2022-09-20</td>\n",
       "    </tr>\n",
       "    <tr>\n",
       "      <th>34</th>\n",
       "      <td>TRAVEL</td>\n",
       "      <td>9900</td>\n",
       "      <td>2012-01-28</td>\n",
       "      <td>2022-04-07</td>\n",
       "    </tr>\n",
       "    <tr>\n",
       "      <th>30</th>\n",
       "      <td>STYLE &amp; BEAUTY</td>\n",
       "      <td>9814</td>\n",
       "      <td>2012-01-28</td>\n",
       "      <td>2022-08-08</td>\n",
       "    </tr>\n",
       "  </tbody>\n",
       "</table>\n",
       "</div>"
      ],
      "text/plain": [
       "          category  _num_articles    _min_dt    _max_dt\n",
       "24        POLITICS          35602 2014-04-18 2022-09-19\n",
       "38        WELLNESS          17945 2012-01-28 2022-08-30\n",
       "10   ENTERTAINMENT          17362 2012-01-28 2022-09-20\n",
       "34          TRAVEL           9900 2012-01-28 2022-04-07\n",
       "30  STYLE & BEAUTY           9814 2012-01-28 2022-08-08"
      ]
     },
     "execution_count": 55,
     "metadata": {},
     "output_type": "execute_result"
    }
   ],
   "source": [
    "df.groupby('category').agg(_num_articles=('headline','count'),\n",
    "                           _min_dt=('date','min'),\n",
    "                          _max_dt=('date','max')).reset_index().sort_values('_num_articles',ascending=False)[:5]"
   ]
  },
  {
   "cell_type": "markdown",
   "id": "208486d7-1008-4897-bcf0-679f0d585b57",
   "metadata": {
    "jp-MarkdownHeadingCollapsed": true,
    "tags": []
   },
   "source": [
    "## 2.Encode and upsert the data into a Vector database. I am using Pinecone for this exercise."
   ]
  },
  {
   "cell_type": "markdown",
   "id": "96c891b8-ffe2-419d-ad94-d925e76459ca",
   "metadata": {
    "tags": []
   },
   "source": [
    "### Setup - Sentence encoder"
   ]
  },
  {
   "cell_type": "code",
   "execution_count": 6,
   "id": "9eb17531-c7ce-4169-9997-13a81d96fcbf",
   "metadata": {
    "tags": []
   },
   "outputs": [
    {
     "name": "stdout",
     "output_type": "stream",
     "text": [
      "Requirement already satisfied: sentence-transformers in /opt/conda/lib/python3.10/site-packages (2.2.2)\n",
      "Requirement already satisfied: transformers<5.0.0,>=4.6.0 in /opt/conda/lib/python3.10/site-packages (from sentence-transformers) (4.27.2)\n",
      "Requirement already satisfied: tqdm in /opt/conda/lib/python3.10/site-packages (from sentence-transformers) (4.66.1)\n",
      "Requirement already satisfied: torch>=1.6.0 in /opt/conda/lib/python3.10/site-packages (from sentence-transformers) (1.13.1)\n",
      "Requirement already satisfied: torchvision in /opt/conda/lib/python3.10/site-packages (from sentence-transformers) (0.14.1)\n",
      "Requirement already satisfied: numpy in /opt/conda/lib/python3.10/site-packages (from sentence-transformers) (1.26.4)\n",
      "Requirement already satisfied: scikit-learn in /opt/conda/lib/python3.10/site-packages (from sentence-transformers) (1.4.0)\n",
      "Requirement already satisfied: scipy in /opt/conda/lib/python3.10/site-packages (from sentence-transformers) (1.12.0)\n",
      "Requirement already satisfied: nltk in /opt/conda/lib/python3.10/site-packages (from sentence-transformers) (3.8.1)\n",
      "Requirement already satisfied: sentencepiece in /opt/conda/lib/python3.10/site-packages (from sentence-transformers) (0.1.99)\n",
      "Requirement already satisfied: huggingface-hub>=0.4.0 in /opt/conda/lib/python3.10/site-packages (from sentence-transformers) (0.20.3)\n",
      "Requirement already satisfied: filelock in /opt/conda/lib/python3.10/site-packages (from huggingface-hub>=0.4.0->sentence-transformers) (3.13.1)\n",
      "Requirement already satisfied: fsspec>=2023.5.0 in /opt/conda/lib/python3.10/site-packages (from huggingface-hub>=0.4.0->sentence-transformers) (2024.2.0)\n",
      "Requirement already satisfied: requests in /opt/conda/lib/python3.10/site-packages (from huggingface-hub>=0.4.0->sentence-transformers) (2.31.0)\n",
      "Requirement already satisfied: pyyaml>=5.1 in /opt/conda/lib/python3.10/site-packages (from huggingface-hub>=0.4.0->sentence-transformers) (6.0)\n",
      "Requirement already satisfied: typing-extensions>=3.7.4.3 in /opt/conda/lib/python3.10/site-packages (from huggingface-hub>=0.4.0->sentence-transformers) (4.9.0)\n",
      "Requirement already satisfied: packaging>=20.9 in /opt/conda/lib/python3.10/site-packages (from huggingface-hub>=0.4.0->sentence-transformers) (23.2)\n",
      "Requirement already satisfied: nvidia-cuda-runtime-cu11==11.7.99 in /opt/conda/lib/python3.10/site-packages (from torch>=1.6.0->sentence-transformers) (11.7.99)\n",
      "Requirement already satisfied: nvidia-cudnn-cu11==8.5.0.96 in /opt/conda/lib/python3.10/site-packages (from torch>=1.6.0->sentence-transformers) (8.5.0.96)\n",
      "Requirement already satisfied: nvidia-cublas-cu11==11.10.3.66 in /opt/conda/lib/python3.10/site-packages (from torch>=1.6.0->sentence-transformers) (11.10.3.66)\n",
      "Requirement already satisfied: nvidia-cuda-nvrtc-cu11==11.7.99 in /opt/conda/lib/python3.10/site-packages (from torch>=1.6.0->sentence-transformers) (11.7.99)\n",
      "Requirement already satisfied: setuptools in /opt/conda/lib/python3.10/site-packages (from nvidia-cublas-cu11==11.10.3.66->torch>=1.6.0->sentence-transformers) (69.0.3)\n",
      "Requirement already satisfied: wheel in /opt/conda/lib/python3.10/site-packages (from nvidia-cublas-cu11==11.10.3.66->torch>=1.6.0->sentence-transformers) (0.42.0)\n",
      "Requirement already satisfied: regex!=2019.12.17 in /opt/conda/lib/python3.10/site-packages (from transformers<5.0.0,>=4.6.0->sentence-transformers) (2023.12.25)\n",
      "Requirement already satisfied: tokenizers!=0.11.3,<0.14,>=0.11.1 in /opt/conda/lib/python3.10/site-packages (from transformers<5.0.0,>=4.6.0->sentence-transformers) (0.13.3)\n",
      "Requirement already satisfied: click in /opt/conda/lib/python3.10/site-packages (from nltk->sentence-transformers) (8.1.7)\n",
      "Requirement already satisfied: joblib in /opt/conda/lib/python3.10/site-packages (from nltk->sentence-transformers) (1.3.2)\n",
      "Requirement already satisfied: threadpoolctl>=2.0.0 in /opt/conda/lib/python3.10/site-packages (from scikit-learn->sentence-transformers) (3.2.0)\n",
      "Requirement already satisfied: pillow!=8.3.*,>=5.3.0 in /opt/conda/lib/python3.10/site-packages (from torchvision->sentence-transformers) (10.2.0)\n",
      "Requirement already satisfied: charset-normalizer<4,>=2 in /opt/conda/lib/python3.10/site-packages (from requests->huggingface-hub>=0.4.0->sentence-transformers) (3.3.2)\n",
      "Requirement already satisfied: idna<4,>=2.5 in /opt/conda/lib/python3.10/site-packages (from requests->huggingface-hub>=0.4.0->sentence-transformers) (3.6)\n",
      "Requirement already satisfied: urllib3<3,>=1.21.1 in /opt/conda/lib/python3.10/site-packages (from requests->huggingface-hub>=0.4.0->sentence-transformers) (1.26.18)\n",
      "Requirement already satisfied: certifi>=2017.4.17 in /opt/conda/lib/python3.10/site-packages (from requests->huggingface-hub>=0.4.0->sentence-transformers) (2024.2.2)\n",
      "\u001b[33mWARNING: Running pip as the 'root' user can result in broken permissions and conflicting behaviour with the system package manager. It is recommended to use a virtual environment instead: https://pip.pypa.io/warnings/venv\u001b[0m\u001b[33m\n",
      "\u001b[0m"
     ]
    }
   ],
   "source": [
    "!pip install sentence-transformers"
   ]
  },
  {
   "cell_type": "code",
   "execution_count": 7,
   "id": "57162279-3e7a-42ec-b4a2-eb732ccc7c30",
   "metadata": {
    "tags": []
   },
   "outputs": [
    {
     "name": "stderr",
     "output_type": "stream",
     "text": [
      "/opt/conda/lib/python3.10/site-packages/tqdm/auto.py:21: TqdmWarning: IProgress not found. Please update jupyter and ipywidgets. See https://ipywidgets.readthedocs.io/en/stable/user_install.html\n",
      "  from .autonotebook import tqdm as notebook_tqdm\n"
     ]
    }
   ],
   "source": [
    "from sentence_transformers import SentenceTransformer"
   ]
  },
  {
   "cell_type": "code",
   "execution_count": 8,
   "id": "ad42c96a-2abf-4fe0-aa04-f069a1a04011",
   "metadata": {
    "tags": []
   },
   "outputs": [
    {
     "name": "stdout",
     "output_type": "stream",
     "text": [
      "Number of sentences embedded = 2\n",
      "Length of emberddings embedded = 384\n",
      "First 10 elements of the embedding =\n",
      " [ 0.0676569   0.06349594  0.04871309  0.07930495  0.03744809  0.00265276\n",
      "  0.03937498 -0.00709845  0.05936136  0.03153702]\n"
     ]
    }
   ],
   "source": [
    "model_name='sentence-transformers/all-MiniLM-L6-v2'\n",
    "encoder = SentenceTransformer(model_name_or_path=model_name)\n",
    "\n",
    "### checking sentence encoding\n",
    "sentences = [\"This is an example sentence\", \"Each sentence is converted\"]\n",
    "\n",
    "embeddings = encoder.encode(sentences)\n",
    "print(f\"Number of sentences embedded = {len(embeddings)}\")\n",
    "print(f\"Length of emberddings embedded = {len((embeddings[0]))}\")\n",
    "print(f\"First 10 elements of the embedding =\\n {embeddings[0][:10]}\")"
   ]
  },
  {
   "cell_type": "code",
   "execution_count": 59,
   "id": "c0a71f98-87fb-4218-ac3a-c310b98e1d07",
   "metadata": {
    "tags": []
   },
   "outputs": [],
   "source": [
    "df_subset_test=df.loc[0:1000]"
   ]
  },
  {
   "cell_type": "code",
   "execution_count": 65,
   "id": "a50be9c6-48e4-4cf3-a02f-851011fe8a7c",
   "metadata": {
    "tags": []
   },
   "outputs": [],
   "source": [
    "def generate_item_sentence(item: \"pd.Series\", \n",
    "                           text_columns:\"list of columns\") -> str:\n",
    "    \"\"\"\n",
    "    \n",
    "    This function concatenates columns of interest and generates sentence embeddings of the concatenated text.\n",
    "    \n",
    "    Args: \n",
    "        item (pd.Series): row of a pandas dataframe\n",
    "        text_columns (list): list of columns'\n",
    "    Returns:\n",
    "         str: concatenated string\n",
    "    \"\"\"\n",
    "    return ' '.join([item[column] for column in text_columns])"
   ]
  },
  {
   "cell_type": "code",
   "execution_count": 66,
   "id": "3bddec08-5710-4c24-9fb3-c50b3ef71819",
   "metadata": {
    "tags": []
   },
   "outputs": [
    {
     "name": "stderr",
     "output_type": "stream",
     "text": [
      "/tmp/ipykernel_162/678016671.py:1: SettingWithCopyWarning: \n",
      "A value is trying to be set on a copy of a slice from a DataFrame.\n",
      "Try using .loc[row_indexer,col_indexer] = value instead\n",
      "\n",
      "See the caveats in the documentation: https://pandas.pydata.org/pandas-docs/stable/user_guide/indexing.html#returning-a-view-versus-a-copy\n",
      "  df_subset_test[\"sentence\"] = df_subset_test.apply(lambda row: generate_item_sentence(row,[\"headline\",\"short_description\"]),\n",
      "/tmp/ipykernel_162/678016671.py:4: SettingWithCopyWarning: \n",
      "A value is trying to be set on a copy of a slice from a DataFrame.\n",
      "Try using .loc[row_indexer,col_indexer] = value instead\n",
      "\n",
      "See the caveats in the documentation: https://pandas.pydata.org/pandas-docs/stable/user_guide/indexing.html#returning-a-view-versus-a-copy\n",
      "  df_subset_test[\"sentence_embedding\"] = df_subset_test[\"sentence\"].apply(encoder.encode)\n"
     ]
    }
   ],
   "source": [
    "df_subset_test[\"sentence\"] = df_subset_test.apply(lambda row: generate_item_sentence(row,[\"headline\",\"short_description\"]), \n",
    "                                                  axis=1)\n",
    "\n",
    "df_subset_test[\"sentence_embedding\"] = df_subset_test[\"sentence\"].apply(encoder.encode)"
   ]
  },
  {
   "cell_type": "code",
   "execution_count": 67,
   "id": "7c20ba9b-7357-41f5-bc40-66df7c46495f",
   "metadata": {
    "tags": []
   },
   "outputs": [
    {
     "name": "stdout",
     "output_type": "stream",
     "text": [
      "Help on function generate_item_sentence in module __main__:\n",
      "\n",
      "generate_item_sentence(item: 'pd.Series', text_columns: 'list of columns') -> str\n",
      "    This function concatenates columns of interest and generates sentence embeddings of the concatenated text.\n",
      "    \n",
      "    Args: \n",
      "        item (pd.Series): row of a pandas dataframe\n",
      "        text_columns (list): list of columns'\n",
      "    Returns:\n",
      "         str: concatenated string\n",
      "\n"
     ]
    }
   ],
   "source": [
    "generate_item_sentence.__annotations__\n",
    "help(generate_item_sentence)"
   ]
  },
  {
   "cell_type": "markdown",
   "id": "048e47bf-f669-41d8-99b5-96a13121fb1d",
   "metadata": {
    "tags": []
   },
   "source": [
    "### Push vectors to Pinecone database"
   ]
  },
  {
   "cell_type": "markdown",
   "id": "414aa188-5e9c-4a8a-b92a-41457c589c64",
   "metadata": {
    "tags": []
   },
   "source": [
    "#### PINECONE SETUP"
   ]
  },
  {
   "cell_type": "code",
   "execution_count": 9,
   "id": "28c2d5e3-eb82-46b0-8ad2-88228acd45d4",
   "metadata": {
    "tags": []
   },
   "outputs": [
    {
     "data": {
      "text/plain": [
       "['news-articles-rag-aws']"
      ]
     },
     "execution_count": 9,
     "metadata": {},
     "output_type": "execute_result"
    }
   ],
   "source": [
    "import pinecone\n",
    "import os\n",
    "\n",
    "PINECONE_API_KEY=\"234324dsfdsfs\"\n",
    "os.environ[\"PINECONE_API_KEY\"] = PINECONE_API_KEY\n",
    "os.environ[\"PINECONE_API_ENV\"] = \"gcp-starter\"\n",
    "\n",
    "pinecone.init(\n",
    "    api_key = os.environ.get('PINECONE_API_KEY'),\n",
    "    environment = os.environ.get('PINECONE_API_ENV')\n",
    ")\n",
    "\n",
    "#listing all the indexes\n",
    "pinecone.list_indexes()"
   ]
  },
  {
   "cell_type": "code",
   "execution_count": 57,
   "id": "9b56ced2-2fd3-474e-81c4-bc1a8b4630de",
   "metadata": {
    "tags": []
   },
   "outputs": [
    {
     "name": "stdout",
     "output_type": "stream",
     "text": [
      "[]\n"
     ]
    }
   ],
   "source": [
    "import time\n",
    "\n",
    "index_name = 'news-articles-rag-aws'\n",
    "\n",
    "if index_name in pinecone.list_indexes():\n",
    "    pinecone.delete_index(index_name)\n",
    "\n",
    "#Index deleted \n",
    "print(pinecone.list_indexes())\n",
    "    \n",
    "pinecone.create_index(\n",
    "    name=index_name,\n",
    "    dimension=encoder.get_sentence_embedding_dimension(),\n",
    "    metric='cosine'\n",
    ")\n",
    "# wait for index to finish initialization\n",
    "while not pinecone.describe_index(index_name).status['ready']:\n",
    "    time.sleep(1)"
   ]
  },
  {
   "cell_type": "code",
   "execution_count": 29,
   "id": "beed8dab-ada9-4913-957c-8170a4af0077",
   "metadata": {
    "tags": []
   },
   "outputs": [
    {
     "data": {
      "text/plain": [
       "['news-articles-rag-aws']"
      ]
     },
     "execution_count": 29,
     "metadata": {},
     "output_type": "execute_result"
    }
   ],
   "source": [
    "#Checking the indexes creation:\n",
    "pinecone.list_indexes()"
   ]
  },
  {
   "cell_type": "markdown",
   "id": "c3591e4a-51bc-4163-b087-18d4276d294f",
   "metadata": {
    "tags": []
   },
   "source": [
    "### Upsert data into Pinecone"
   ]
  },
  {
   "cell_type": "code",
   "execution_count": 59,
   "id": "6456c22f-1507-499a-b3c3-5cf8b0f0b8ed",
   "metadata": {
    "tags": []
   },
   "outputs": [
    {
     "name": "stderr",
     "output_type": "stream",
     "text": [
      "  0%|          | 1/501 [00:00<01:39,  5.01it/s]"
     ]
    },
    {
     "name": "stdout",
     "output_type": "stream",
     "text": [
      "i = 0, i_end = 2, ids = ['0', '1']\n"
     ]
    },
    {
     "name": "stderr",
     "output_type": "stream",
     "text": [
      " 10%|█         | 51/501 [00:07<01:01,  7.30it/s]"
     ]
    },
    {
     "name": "stdout",
     "output_type": "stream",
     "text": [
      "i = 100, i_end = 102, ids = ['100', '101']\n"
     ]
    },
    {
     "name": "stderr",
     "output_type": "stream",
     "text": [
      " 20%|██        | 101/501 [00:14<00:54,  7.29it/s]"
     ]
    },
    {
     "name": "stdout",
     "output_type": "stream",
     "text": [
      "i = 200, i_end = 202, ids = ['200', '201']\n"
     ]
    },
    {
     "name": "stderr",
     "output_type": "stream",
     "text": [
      " 30%|███       | 151/501 [00:20<00:49,  7.14it/s]"
     ]
    },
    {
     "name": "stdout",
     "output_type": "stream",
     "text": [
      "i = 300, i_end = 302, ids = ['300', '301']\n"
     ]
    },
    {
     "name": "stderr",
     "output_type": "stream",
     "text": [
      " 40%|████      | 201/501 [00:28<00:43,  6.82it/s]"
     ]
    },
    {
     "name": "stdout",
     "output_type": "stream",
     "text": [
      "i = 400, i_end = 402, ids = ['400', '401']\n"
     ]
    },
    {
     "name": "stderr",
     "output_type": "stream",
     "text": [
      " 50%|█████     | 251/501 [00:35<00:33,  7.44it/s]"
     ]
    },
    {
     "name": "stdout",
     "output_type": "stream",
     "text": [
      "i = 500, i_end = 502, ids = ['500', '501']\n"
     ]
    },
    {
     "name": "stderr",
     "output_type": "stream",
     "text": [
      " 60%|██████    | 301/501 [00:42<00:28,  7.14it/s]"
     ]
    },
    {
     "name": "stdout",
     "output_type": "stream",
     "text": [
      "i = 600, i_end = 602, ids = ['600', '601']\n"
     ]
    },
    {
     "name": "stderr",
     "output_type": "stream",
     "text": [
      " 70%|███████   | 351/501 [00:49<00:20,  7.32it/s]"
     ]
    },
    {
     "name": "stdout",
     "output_type": "stream",
     "text": [
      "i = 700, i_end = 702, ids = ['700', '701']\n"
     ]
    },
    {
     "name": "stderr",
     "output_type": "stream",
     "text": [
      " 80%|████████  | 401/501 [00:55<00:14,  7.04it/s]"
     ]
    },
    {
     "name": "stdout",
     "output_type": "stream",
     "text": [
      "i = 800, i_end = 802, ids = ['800', '801']\n"
     ]
    },
    {
     "name": "stderr",
     "output_type": "stream",
     "text": [
      " 90%|█████████ | 451/501 [01:02<00:07,  7.00it/s]"
     ]
    },
    {
     "name": "stdout",
     "output_type": "stream",
     "text": [
      "i = 900, i_end = 902, ids = ['900', '901']\n"
     ]
    },
    {
     "name": "stderr",
     "output_type": "stream",
     "text": [
      "100%|██████████| 501/501 [01:09<00:00,  7.19it/s]"
     ]
    },
    {
     "name": "stdout",
     "output_type": "stream",
     "text": [
      "i = 1000, i_end = 1001, ids = ['1000']\n"
     ]
    },
    {
     "name": "stderr",
     "output_type": "stream",
     "text": [
      "\n"
     ]
    }
   ],
   "source": [
    "from tqdm.auto import tqdm\n",
    "\n",
    "batch_size = 2  # can increase but needs larger instance size otherwise instance runs out of memory\n",
    "vector_limit = df_subset_test.shape[0]#1000\n",
    "\n",
    "answers = df_subset_test[:vector_limit]\n",
    "index = pinecone.Index(index_name)\n",
    "\n",
    "for i in tqdm(range(0, len(answers), batch_size)):\n",
    "    # find end of batch\n",
    "    i_end = min(i+batch_size, len(answers))\n",
    "    # create IDs batch\n",
    "    ids = [str(x) for x in range(i, i_end)]\n",
    "    if i%100==0:\n",
    "        print(f\"i = {i}, i_end = {i_end}, ids = {ids}\")\n",
    "    # create metadata batch\n",
    "    metadatas = [{'text': text} for text in answers[\"sentence\"][i:i_end]]\n",
    "    #print(\"--------Metadata----------\")\n",
    "    #print(metadatas)\n",
    "    # create embeddings\n",
    "    texts = answers[\"sentence\"][i:i_end].tolist()\n",
    "    #print(\"--------Texts----------\")\n",
    "    #print(texts)\n",
    "    #print(\"--------Embedding----------\")\n",
    "    embeddings=[encoder.encode(sent).tolist() for sent in texts]\n",
    "    #print(f\"Length of embeddings = {len(embeddings)}\")\n",
    "    #embeddings = embed_docs(texts)\n",
    "    #df_subset_test[\"sentence\"].apply(encoder.encode)\n",
    "    # create records list for upsert\n",
    "    #print(\"---------Records------------\")\n",
    "    records = zip(ids, embeddings, metadatas)\n",
    "    #print(f\"records = {records}\")\n",
    "    # upsert to Pinecone\n",
    "    index.upsert(vectors=records)"
   ]
  },
  {
   "cell_type": "code",
   "execution_count": 68,
   "id": "d458c8d2-b63e-42a6-a87f-1ae19d1fe4b3",
   "metadata": {
    "tags": []
   },
   "outputs": [
    {
     "data": {
      "text/plain": [
       "{'dimension': 384,\n",
       " 'index_fullness': 0.01001,\n",
       " 'namespaces': {'': {'vector_count': 1001}},\n",
       " 'total_vector_count': 1001}"
      ]
     },
     "execution_count": 68,
     "metadata": {},
     "output_type": "execute_result"
    }
   ],
   "source": [
    "# check number of records in the index\n",
    "index = pinecone.Index(index_name)\n",
    "index.describe_index_stats()"
   ]
  },
  {
   "cell_type": "markdown",
   "id": "c34c9505-858e-4fa6-a861-b36aff2ebaee",
   "metadata": {
    "jp-MarkdownHeadingCollapsed": true,
    "tags": []
   },
   "source": [
    "## 3. Leveraging RAG for Targeted Content Delivery"
   ]
  },
  {
   "cell_type": "markdown",
   "id": "e24215ee-000f-4649-985d-01635a792ef0",
   "metadata": {
    "tags": []
   },
   "source": [
    "### LLM Setup"
   ]
  },
  {
   "cell_type": "code",
   "execution_count": 10,
   "id": "fedc5480-9865-4f40-bdae-19e20071e189",
   "metadata": {
    "tags": []
   },
   "outputs": [],
   "source": [
    "from transformers import AutoModelForSeq2SeqLM\n",
    "from transformers import AutoTokenizer\n",
    "from transformers import GenerationConfig\n",
    "import torch\n",
    "import pandas as pd\n",
    "\n",
    "model_name='google/flan-t5-base'\n",
    "\n",
    "model_flan = AutoModelForSeq2SeqLM.from_pretrained(model_name)\n",
    "tokenizer_flan = AutoTokenizer.from_pretrained(model_name, use_fast=True)"
   ]
  },
  {
   "cell_type": "markdown",
   "id": "c59dd034-fddb-417a-9c88-3b3a300adcd2",
   "metadata": {
    "tags": []
   },
   "source": [
    "### RAG Setup"
   ]
  },
  {
   "cell_type": "code",
   "execution_count": 11,
   "id": "aeeea6da-ef83-4c53-a3da-7f6cdf8667e3",
   "metadata": {
    "tags": []
   },
   "outputs": [],
   "source": [
    "from sentence_transformers import SentenceTransformer\n",
    "\n",
    "### checking sentence encoding\n",
    "\n",
    "model_name='sentence-transformers/all-MiniLM-L6-v2'\n",
    "encoder = SentenceTransformer(model_name_or_path=model_name)"
   ]
  },
  {
   "cell_type": "code",
   "execution_count": 12,
   "id": "9ef4f777-15f4-4867-a8d6-1b812cc486e0",
   "metadata": {
    "tags": []
   },
   "outputs": [
    {
     "data": {
      "text/plain": [
       "['news-articles-rag-aws']"
      ]
     },
     "execution_count": 12,
     "metadata": {},
     "output_type": "execute_result"
    }
   ],
   "source": [
    "import pinecone\n",
    "import os\n",
    "\n",
    "PINECONE_API_KEY=\"2343242adasda\"\n",
    "os.environ[\"PINECONE_API_KEY\"] = PINECONE_API_KEY\n",
    "os.environ[\"PINECONE_API_ENV\"] = \"gcp-starter\"\n",
    "\n",
    "pinecone.init(\n",
    "    api_key = os.environ.get('PINECONE_API_KEY'),\n",
    "    environment = os.environ.get('PINECONE_API_ENV')\n",
    ")\n",
    "\n",
    "#listing all the indexes\n",
    "pinecone.list_indexes()"
   ]
  },
  {
   "cell_type": "code",
   "execution_count": 13,
   "id": "e9eb8b71-3abe-4d9b-a0f9-be182e61ae7b",
   "metadata": {
    "tags": []
   },
   "outputs": [
    {
     "data": {
      "text/plain": [
       "{'dimension': 384,\n",
       " 'index_fullness': 0.01001,\n",
       " 'namespaces': {'': {'vector_count': 1001}},\n",
       " 'total_vector_count': 1001}"
      ]
     },
     "execution_count": 13,
     "metadata": {},
     "output_type": "execute_result"
    }
   ],
   "source": [
    "# check number of records in the index\n",
    "index_name='news-articles-rag-aws'\n",
    "index = pinecone.Index(index_name)\n",
    "index.describe_index_stats()"
   ]
  },
  {
   "cell_type": "markdown",
   "id": "cd8b7f50-9f0c-4143-a3f6-d3f0bbd0c3e4",
   "metadata": {
    "tags": []
   },
   "source": [
    "### Helper Functions"
   ]
  },
  {
   "cell_type": "code",
   "execution_count": 28,
   "id": "1bc3d483-14d9-4f6b-b29e-957c4bf5b90d",
   "metadata": {
    "tags": []
   },
   "outputs": [],
   "source": [
    "def retriver (query: str,top_k: int) -> list[str]:\n",
    "    \"\"\"\n",
    "    This function retrieves the relevant articles from the Pinecone vector database.\n",
    "    \n",
    "    Args: \n",
    "         query:str: User query\n",
    "         top_k: int: Top K responses to return\n",
    "    Returns:\n",
    "         list[str]: List of relevant top 5 articles\n",
    "    \"\"\"\n",
    "    \n",
    "    query_vector = encoder.encode(query_text).tolist()\n",
    "\n",
    "    res = index.query(query_vector, top_k=5, include_metadata=True)\n",
    "\n",
    "    # show the results\n",
    "    #res\n",
    "\n",
    "    contexts = [match.metadata['text'] for match in res.matches]\n",
    "    return contexts"
   ]
  },
  {
   "cell_type": "code",
   "execution_count": 29,
   "id": "f7710dc5-bdfa-4ccf-9963-f81920dc9863",
   "metadata": {
    "tags": []
   },
   "outputs": [
    {
     "name": "stdout",
     "output_type": "stream",
     "text": [
      "Help on function retriver in module __main__:\n",
      "\n",
      "retriver(query: str, top_k: int) -> list[str]\n",
      "    This function retrieves the relevant articles from the Pinecone vector database.\n",
      "    \n",
      "    Args: \n",
      "         query:str: User query\n",
      "         top_k: int: Top K responses to return\n",
      "    Returns:\n",
      "         list[str]: List of relevant top 5 articles\n",
      "\n"
     ]
    }
   ],
   "source": [
    "retriver.__annotations__\n",
    "help(retriver)"
   ]
  },
  {
   "cell_type": "code",
   "execution_count": 30,
   "id": "1759f4b7-eb46-4a35-912a-417e10ecb732",
   "metadata": {
    "tags": []
   },
   "outputs": [],
   "source": [
    "from typing import List\n",
    "\n",
    "\n",
    "\n",
    "def construct_context(contexts: List[str],max_section_len: int,separator: str) -> str:\n",
    "    \n",
    "    \"\"\"\n",
    "    This function generates the context string from RAG response.\n",
    "    \n",
    "    Args: \n",
    "         contexts: List[str]: RAG semantic search response\n",
    "         max_section_len: int: Max length of the context\n",
    "        separator: str: Seperator between the responses ('/s','/n')\n",
    "    Returns:\n",
    "         str: concatenated string\n",
    "    \"\"\"\n",
    "    \n",
    "    chosen_sections = []\n",
    "    chosen_sections_len = 0\n",
    "\n",
    "    for text in contexts:\n",
    "        text = text.strip()\n",
    "        # Add contexts until we run out of space.\n",
    "        chosen_sections_len += len(text) + 2\n",
    "        if chosen_sections_len > max_section_len:\n",
    "            break\n",
    "        chosen_sections.append(text)\n",
    "    concatenated_doc = separator.join(chosen_sections)\n",
    "    '''print(\n",
    "        f\"With maximum sequence length {max_section_len}, selected top {len(chosen_sections)} document sections: \\n{concatenated_doc}\"\n",
    "    )'''\n",
    "    return concatenated_doc"
   ]
  },
  {
   "cell_type": "code",
   "execution_count": 31,
   "id": "eae27cfe-3e51-499c-8f3a-325bcc09ae0e",
   "metadata": {
    "tags": []
   },
   "outputs": [
    {
     "name": "stdout",
     "output_type": "stream",
     "text": [
      "Help on function construct_context in module __main__:\n",
      "\n",
      "construct_context(contexts: List[str], max_section_len: int, separator: str) -> str\n",
      "    This function generates the context string from RAG response.\n",
      "    \n",
      "    Args: \n",
      "         contexts: List[str]: RAG semantic search response\n",
      "         max_section_len: int: Max length of the context\n",
      "        separator: str: Seperator between the responses ('/s','/n')\n",
      "    Returns:\n",
      "         str: concatenated string\n",
      "\n"
     ]
    }
   ],
   "source": [
    "construct_context.__annotations__\n",
    "help(construct_context)"
   ]
  },
  {
   "cell_type": "code",
   "execution_count": 38,
   "id": "fcad5c17-885b-4202-9d24-a62854baed98",
   "metadata": {
    "tags": []
   },
   "outputs": [],
   "source": [
    "def construct_payload(prompt_template: str,\n",
    "                      question: str,\n",
    "                      context_str: str,\n",
    "                      padding:str=\"longest\")-> str:\n",
    "    \n",
    "    \"\"\"\n",
    "    This function contructs the prompt for the LLM.\n",
    "    \n",
    "    Args: \n",
    "        prompt_template: str: Input prompt template\n",
    "        question:str: LLM question\n",
    "        context_str: LLM input context information\n",
    "        max_source_length:int: max source length\n",
    "        max_target_length:int:=round(max_source_length/2,0)\n",
    "        padding:str=\"longest\"\n",
    "    Returns:\n",
    "         str: LLM prompt\n",
    "    \"\"\"\n",
    "    prompt = prompt_template.replace(\"{context}\", context_str).replace(\"{question}\", question)\n",
    "\n",
    "    return prompt\n",
    "    "
   ]
  },
  {
   "cell_type": "code",
   "execution_count": 39,
   "id": "45e40290-d81d-4aa4-8bd8-1d756085eb51",
   "metadata": {
    "tags": []
   },
   "outputs": [
    {
     "name": "stdout",
     "output_type": "stream",
     "text": [
      "Help on function construct_payload in module __main__:\n",
      "\n",
      "construct_payload(prompt_template: str, question: str, context_str: str, padding: str = 'longest') -> str\n",
      "    This function contructs the prompt for the LLM.\n",
      "    \n",
      "    Args: \n",
      "        prompt_template: str: Input prompt template\n",
      "        question:str: LLM question\n",
      "        context_str: LLM input context information\n",
      "        max_source_length:int: max source length\n",
      "        max_target_length:int:=round(max_source_length/2,0)\n",
      "        padding:str=\"longest\"\n",
      "    Returns:\n",
      "         str: LLM prompt\n",
      "\n"
     ]
    }
   ],
   "source": [
    "construct_payload.__annotations__\n",
    "help(construct_payload)"
   ]
  },
  {
   "cell_type": "code",
   "execution_count": 40,
   "id": "326bf695-479d-4f0a-8ba5-031ed0885e83",
   "metadata": {
    "tags": []
   },
   "outputs": [],
   "source": [
    "prompt_template = \"\"\"Answer the following QUESTION without hallucination.\".\n",
    "\n",
    "CONTEXT:\n",
    "{context}\n",
    "\n",
    "QUESTION:\n",
    "{question}\n",
    "\n",
    "ANSWER:\n",
    "\"\"\""
   ]
  },
  {
   "cell_type": "markdown",
   "id": "8b895468-effa-4a88-adad-95f5112d8c71",
   "metadata": {
    "tags": []
   },
   "source": [
    "### LLM Base response without RAG"
   ]
  },
  {
   "cell_type": "code",
   "execution_count": 55,
   "id": "47242250-8a3a-47fb-a2db-32ebbeee7400",
   "metadata": {
    "tags": []
   },
   "outputs": [
    {
     "name": "stdout",
     "output_type": "stream",
     "text": [
      "LLM RESPONSE WITHOUT RAG CONTEXT:\n",
      "Air travel is a form of transportation that is often referred to as \"air travel\" or \"air travel\" in the United States.\n"
     ]
    }
   ],
   "source": [
    "max_source_length=512\n",
    "max_target_length=round(max_source_length/2,0)\n",
    "padding=\"longest\"#\"max_length\" #\"longest\"\n",
    "#input_text=example.text[0]\n",
    "\n",
    "question= \"What is the news about air travel?\"#\"Summarize the text without any hallucination:\"#\"Who are the entities:\" #\"What is the sentiment:\" #\"Provide accurate summarization:\"\n",
    "#Summary\n",
    "\n",
    "context_str=\"\"\n",
    "\n",
    "prompt=construct_payload(prompt_template,question,context_str,padding=\"longest\")\n",
    "\n",
    "#print(prompt)\n",
    "\n",
    "inputs = tokenizer_flan(prompt,\n",
    "    max_length=max_source_length,\n",
    "    return_tensors='pt',\n",
    "    padding=padding,\n",
    "    truncation=True)\n",
    "\n",
    "#max_target_length=max(round(len_input_text/2,0),max_target_length)\n",
    "#print(f\"\\nLENGTH OF INPUT TEXT = {len(prompt)}, max_target_length = {max_target_length}\")\n",
    "base_output=tokenizer_flan.decode(model_flan.generate(inputs[\"input_ids\"]\n",
    "                                                      ,max_new_tokens=max_target_length)[0])\n",
    "base_output=base_output.replace(\"<pad> \", \"\").replace(\"</s>\", \"\")\n",
    "\n",
    "print(f'LLM RESPONSE WITHOUT RAG CONTEXT:\\n{base_output}')"
   ]
  },
  {
   "cell_type": "markdown",
   "id": "8fc9734d-6ea0-4bb2-91cf-498497879931",
   "metadata": {
    "tags": []
   },
   "source": [
    "### LLM response with RAG - FLAN-T5-Base"
   ]
  },
  {
   "cell_type": "code",
   "execution_count": 102,
   "id": "c0ea9c7d-b4a7-4caf-86af-4feb7bc37a29",
   "metadata": {
    "tags": []
   },
   "outputs": [
    {
     "name": "stdout",
     "output_type": "stream",
     "text": [
      "contexts=[\"Jen Psaki Says Court Ruling Ending Mask Mandate For Travel Is 'Disappointing' The White House press secretary said the CDC continues to recommend mask-wearing on airplanes, even as carriers dropped mask requirements.\", 'Alaska Airlines Cancels Dozens Of Flights As Pilots Picket More than 100 Alaska Airlines flights were canceled by the airline, including 66 in Seattle, 20 in Portland, Oregon, 10 in Los Angeles and seven in San Francisco.', \"American Airlines Flyer Charged, Banned For Life After Punching Flight Attendant On Video He was subdued by passengers and crew when he fled to the back of the aircraft after the confrontation, according to the U.S. attorney's office in Los Angeles.\", '78,000 Pounds Of Infant Formula Arrives In US From Europe The Air Force flew pallets of baby formula to Indiana to begin alleviating the devastating nationwide shortage.', 'What’s Going On With HBO Max? Here’s What We Know So Far. Speculation about potentially drastic cuts at HBO Max has left viewers and subscribers panicking about the future of the streaming platform.']\n",
      "\n",
      "context_str=\"Jen Psaki Says Court Ruling Ending Mask Mandate For Travel Is 'Disappointing' The White House press secretary said the CDC continues to recommend mask-wearing on airplanes, even as carriers dropped mask requirements.\\nAlaska Airlines Cancels Dozens Of Flights As Pilots Picket More than 100 Alaska Airlines flights were canceled by the airline, including 66 in Seattle, 20 in Portland, Oregon, 10 in Los Angeles and seven in San Francisco.\\nAmerican Airlines Flyer Charged, Banned For Life After Punching Flight Attendant On Video He was subdued by passengers and crew when he fled to the back of the aircraft after the confrontation, according to the U.S. attorney's office in Los Angeles.\\n78,000 Pounds Of Infant Formula Arrives In US From Europe The Air Force flew pallets of baby formula to Indiana to begin alleviating the devastating nationwide shortage.\\nWhat’s Going On With HBO Max? Here’s What We Know So Far. Speculation about potentially drastic cuts at HBO Max has left viewers and subscribers panicking about the future of the streaming platform.\"\n",
      "\n",
      "prompt='Answer the following QUESTION without hallucination.\".\\n\\nCONTEXT:\\nJen Psaki Says Court Ruling Ending Mask Mandate For Travel Is \\'Disappointing\\' The White House press secretary said the CDC continues to recommend mask-wearing on airplanes, even as carriers dropped mask requirements.\\nAlaska Airlines Cancels Dozens Of Flights As Pilots Picket More than 100 Alaska Airlines flights were canceled by the airline, including 66 in Seattle, 20 in Portland, Oregon, 10 in Los Angeles and seven in San Francisco.\\nAmerican Airlines Flyer Charged, Banned For Life After Punching Flight Attendant On Video He was subdued by passengers and crew when he fled to the back of the aircraft after the confrontation, according to the U.S. attorney\\'s office in Los Angeles.\\n78,000 Pounds Of Infant Formula Arrives In US From Europe The Air Force flew pallets of baby formula to Indiana to begin alleviating the devastating nationwide shortage.\\nWhat’s Going On With HBO Max? Here’s What We Know So Far. Speculation about potentially drastic cuts at HBO Max has left viewers and subscribers panicking about the future of the streaming platform.\\n\\nQUESTION:\\nWhat is the news about air travel?\\n\\nANSWER:\\n'\n",
      "\n",
      "\n",
      "LLM RESPONSE WITH RAG CONTEXT:\n",
      "The White House press secretary said the CDC continues to recommend mask-wearing on airplanes, even as carriers dropped mask requirements.\n"
     ]
    }
   ],
   "source": [
    "max_source_length=512\n",
    "max_target_length=1000#max_source_length\n",
    "padding=\"longest\"#\"max_length\" #\"longest\"\n",
    "#input_text=example.text[0]\n",
    "\n",
    "question= \"What is the news about air travel?\"#\"Summarize the text without any hallucination:\"#\"Who are the entities:\" #\"What is the sentiment:\" #\"Provide accurate summarization:\"\n",
    "\n",
    "#Generate the contexts\n",
    "contexts=retriver(query = question,top_k=5)\n",
    "print(f\"{contexts=}\")\n",
    "\n",
    "#Construct the context\n",
    "context_str = construct_context(contexts=contexts,max_section_len = 2000,separator = '\\n')#\"\\n\")\n",
    "print(f\"\\n{context_str=}\")\n",
    "\n",
    "\n",
    "#Create the prompt\n",
    "prompt=construct_payload(prompt_template,question,context_str,padding=\"longest\")\n",
    "print(f\"\\n{prompt=}\")\n",
    "\n",
    "\n",
    "inputs = tokenizer_flan(prompt,\n",
    "    max_length=max_source_length,\n",
    "    return_tensors='pt',\n",
    "    padding=padding,\n",
    "    truncation=True)\n",
    "\n",
    "rag_output=tokenizer_flan.decode(model_flan.generate(inputs[\"input_ids\"],max_new_tokens=max_target_length)[0])\n",
    "rag_output=rag_output.replace(\"<pad> \", \"\").replace(\"</s>\", \"\")\n",
    "\n",
    "print(f'\\n\\nLLM RESPONSE WITH RAG CONTEXT:\\n{rag_output}')\n"
   ]
  },
  {
   "cell_type": "markdown",
   "id": "000c23fb-6f5c-4240-8b24-a53b2c29aee2",
   "metadata": {},
   "source": [
    "### LLM response with RAG - FLAN-T5-Small"
   ]
  },
  {
   "cell_type": "code",
   "execution_count": 103,
   "id": "48ed9780-4f01-4a2c-9929-be68c3b1ab04",
   "metadata": {
    "tags": []
   },
   "outputs": [
    {
     "name": "stderr",
     "output_type": "stream",
     "text": [
      "tokenizer_config.json: 100%|██████████| 2.54k/2.54k [00:00<00:00, 8.79MB/s]\n",
      "spiece.model: 100%|██████████| 792k/792k [00:00<00:00, 37.5MB/s]\n",
      "tokenizer.json: 100%|██████████| 2.42M/2.42M [00:00<00:00, 29.0MB/s]\n",
      "special_tokens_map.json: 100%|██████████| 2.20k/2.20k [00:00<00:00, 11.5MB/s]\n",
      "config.json: 100%|██████████| 1.40k/1.40k [00:00<00:00, 7.24MB/s]\n",
      "pytorch_model.bin: 100%|██████████| 308M/308M [00:00<00:00, 388MB/s] \n",
      "generation_config.json: 100%|██████████| 147/147 [00:00<00:00, 749kB/s]\n"
     ]
    }
   ],
   "source": [
    "tokenizer_flan_small = AutoTokenizer.from_pretrained(\"google/flan-t5-small\")\n",
    "model_flan_small = AutoModelForSeq2SeqLM.from_pretrained(\"google/flan-t5-small\")"
   ]
  },
  {
   "cell_type": "code",
   "execution_count": 105,
   "id": "dfbae1d0-38e0-4aae-bc10-c8698906780f",
   "metadata": {
    "tags": []
   },
   "outputs": [
    {
     "name": "stdout",
     "output_type": "stream",
     "text": [
      "contexts=[\"Jen Psaki Says Court Ruling Ending Mask Mandate For Travel Is 'Disappointing' The White House press secretary said the CDC continues to recommend mask-wearing on airplanes, even as carriers dropped mask requirements.\", 'Alaska Airlines Cancels Dozens Of Flights As Pilots Picket More than 100 Alaska Airlines flights were canceled by the airline, including 66 in Seattle, 20 in Portland, Oregon, 10 in Los Angeles and seven in San Francisco.', \"American Airlines Flyer Charged, Banned For Life After Punching Flight Attendant On Video He was subdued by passengers and crew when he fled to the back of the aircraft after the confrontation, according to the U.S. attorney's office in Los Angeles.\", '78,000 Pounds Of Infant Formula Arrives In US From Europe The Air Force flew pallets of baby formula to Indiana to begin alleviating the devastating nationwide shortage.', 'What’s Going On With HBO Max? Here’s What We Know So Far. Speculation about potentially drastic cuts at HBO Max has left viewers and subscribers panicking about the future of the streaming platform.']\n",
      "\n",
      "context_str=\"Jen Psaki Says Court Ruling Ending Mask Mandate For Travel Is 'Disappointing' The White House press secretary said the CDC continues to recommend mask-wearing on airplanes, even as carriers dropped mask requirements.\\nAlaska Airlines Cancels Dozens Of Flights As Pilots Picket More than 100 Alaska Airlines flights were canceled by the airline, including 66 in Seattle, 20 in Portland, Oregon, 10 in Los Angeles and seven in San Francisco.\\nAmerican Airlines Flyer Charged, Banned For Life After Punching Flight Attendant On Video He was subdued by passengers and crew when he fled to the back of the aircraft after the confrontation, according to the U.S. attorney's office in Los Angeles.\\n78,000 Pounds Of Infant Formula Arrives In US From Europe The Air Force flew pallets of baby formula to Indiana to begin alleviating the devastating nationwide shortage.\\nWhat’s Going On With HBO Max? Here’s What We Know So Far. Speculation about potentially drastic cuts at HBO Max has left viewers and subscribers panicking about the future of the streaming platform.\"\n",
      "\n",
      "prompt='Answer the following QUESTION without hallucination.\".\\n\\nCONTEXT:\\nJen Psaki Says Court Ruling Ending Mask Mandate For Travel Is \\'Disappointing\\' The White House press secretary said the CDC continues to recommend mask-wearing on airplanes, even as carriers dropped mask requirements.\\nAlaska Airlines Cancels Dozens Of Flights As Pilots Picket More than 100 Alaska Airlines flights were canceled by the airline, including 66 in Seattle, 20 in Portland, Oregon, 10 in Los Angeles and seven in San Francisco.\\nAmerican Airlines Flyer Charged, Banned For Life After Punching Flight Attendant On Video He was subdued by passengers and crew when he fled to the back of the aircraft after the confrontation, according to the U.S. attorney\\'s office in Los Angeles.\\n78,000 Pounds Of Infant Formula Arrives In US From Europe The Air Force flew pallets of baby formula to Indiana to begin alleviating the devastating nationwide shortage.\\nWhat’s Going On With HBO Max? Here’s What We Know So Far. Speculation about potentially drastic cuts at HBO Max has left viewers and subscribers panicking about the future of the streaming platform.\\n\\nQUESTION:\\nWhat is the news about air travel?\\n\\nANSWER:\\n'\n",
      "\n",
      "\n",
      "LLM RESPONSE WITH RAG CONTEXT:\n",
      "<pad> Speculation about potentially drastic cuts at HBO Max has left viewers and subscribers panicking about the future of the streaming platform.</s>\n"
     ]
    }
   ],
   "source": [
    "max_source_length=512\n",
    "max_target_length=1000#max_source_length\n",
    "padding=\"longest\"#\"max_length\" #\"longest\"\n",
    "#input_text=example.text[0]\n",
    "\n",
    "question= \"What is the news about air travel?\"#\"Summarize the text without any hallucination:\"#\"Who are the entities:\" #\"What is the sentiment:\" #\"Provide accurate summarization:\"\n",
    "\n",
    "#Generate the contexts\n",
    "contexts=retriver(query = question,top_k=5)\n",
    "print(f\"{contexts=}\")\n",
    "\n",
    "#Construct the context\n",
    "context_str = construct_context(contexts=contexts,max_section_len = 2000,separator = '\\n')#\"\\n\")\n",
    "print(f\"\\n{context_str=}\")\n",
    "\n",
    "\n",
    "#Create the prompt\n",
    "prompt=construct_payload(prompt_template,question,context_str,padding=\"longest\")\n",
    "print(f\"\\n{prompt=}\")\n",
    "\n",
    "\n",
    "inputs = tokenizer_flan_small(prompt,\n",
    "    max_length=max_source_length,\n",
    "    return_tensors='pt',\n",
    "    padding=padding,\n",
    "    truncation=True)\n",
    "\n",
    "rag_output=tokenizer_flan_small.decode(model_flan_small.generate(inputs[\"input_ids\"],max_new_tokens=max_target_length)[0])\n",
    "#rag_output=rag_output.replace(\"<pad> \", \"\").replace(\"</s>\", \"\")\n",
    "\n",
    "print(f'\\n\\nLLM RESPONSE WITH RAG CONTEXT:\\n{rag_output}')\n"
   ]
  },
  {
   "cell_type": "markdown",
   "id": "ce74df0a-133e-43ec-a40e-bbaa4d9618e7",
   "metadata": {},
   "source": [
    "### LLM response with RAG - Falconsai/text_summarization"
   ]
  },
  {
   "cell_type": "code",
   "execution_count": 97,
   "id": "7666074d-70c3-4224-b3cc-7a6dd74af6b8",
   "metadata": {
    "tags": []
   },
   "outputs": [],
   "source": [
    "tokenizer_falcon = AutoTokenizer.from_pretrained(\"Falconsai/text_summarization\")\n",
    "model_falcon = AutoModelForSeq2SeqLM.from_pretrained(\"Falconsai/text_summarization\")"
   ]
  },
  {
   "cell_type": "code",
   "execution_count": 101,
   "id": "ded23a15-5a36-48cb-a547-fc19986b36d1",
   "metadata": {
    "tags": []
   },
   "outputs": [
    {
     "name": "stdout",
     "output_type": "stream",
     "text": [
      "contexts=[\"Jen Psaki Says Court Ruling Ending Mask Mandate For Travel Is 'Disappointing' The White House press secretary said the CDC continues to recommend mask-wearing on airplanes, even as carriers dropped mask requirements.\", 'Alaska Airlines Cancels Dozens Of Flights As Pilots Picket More than 100 Alaska Airlines flights were canceled by the airline, including 66 in Seattle, 20 in Portland, Oregon, 10 in Los Angeles and seven in San Francisco.', \"American Airlines Flyer Charged, Banned For Life After Punching Flight Attendant On Video He was subdued by passengers and crew when he fled to the back of the aircraft after the confrontation, according to the U.S. attorney's office in Los Angeles.\", '78,000 Pounds Of Infant Formula Arrives In US From Europe The Air Force flew pallets of baby formula to Indiana to begin alleviating the devastating nationwide shortage.', 'What’s Going On With HBO Max? Here’s What We Know So Far. Speculation about potentially drastic cuts at HBO Max has left viewers and subscribers panicking about the future of the streaming platform.']\n",
      "\n",
      "context_str=\"Jen Psaki Says Court Ruling Ending Mask Mandate For Travel Is 'Disappointing' The White House press secretary said the CDC continues to recommend mask-wearing on airplanes, even as carriers dropped mask requirements.\\nAlaska Airlines Cancels Dozens Of Flights As Pilots Picket More than 100 Alaska Airlines flights were canceled by the airline, including 66 in Seattle, 20 in Portland, Oregon, 10 in Los Angeles and seven in San Francisco.\\nAmerican Airlines Flyer Charged, Banned For Life After Punching Flight Attendant On Video He was subdued by passengers and crew when he fled to the back of the aircraft after the confrontation, according to the U.S. attorney's office in Los Angeles.\\n78,000 Pounds Of Infant Formula Arrives In US From Europe The Air Force flew pallets of baby formula to Indiana to begin alleviating the devastating nationwide shortage.\\nWhat’s Going On With HBO Max? Here’s What We Know So Far. Speculation about potentially drastic cuts at HBO Max has left viewers and subscribers panicking about the future of the streaming platform.\"\n"
     ]
    },
    {
     "name": "stderr",
     "output_type": "stream",
     "text": [
      "Your max_length is set to 1067, but you input_length is only 246. You might consider decreasing max_length manually, e.g. summarizer('...', max_length=123)\n"
     ]
    },
    {
     "name": "stdout",
     "output_type": "stream",
     "text": [
      "\n",
      "\n",
      "LLM RESPONSE WITH RAG CONTEXT USING Falconsai/text_summarization =\n",
      "Jen Psaki says Court ruling on Ending Mask Mandate For Travel Is 'Disappointing' The White House says the CDC continues to recommend mask-wearing on airplanes . Alaska Airlines Cancels Dozens Of Flights As Pilots Picket More than 100 Alaska Airlines flights were canceled by the airline .\n"
     ]
    }
   ],
   "source": [
    "from transformers import pipeline\n",
    "\n",
    "max_source_length=2000\n",
    "max_target_length=20000\n",
    "\n",
    "#Generate the contexts\n",
    "contexts=retriver(query = question,top_k=5)\n",
    "print(f\"{contexts=}\")\n",
    "\n",
    "#Construct the context\n",
    "context_str = construct_context(contexts=contexts,\n",
    "                                max_section_len = 2000,separator = '\\n')#\"\\n\")\n",
    "print(f\"\\n{context_str=}\")\n",
    "\n",
    "summarizer = pipeline(\"summarization\", model=\"Falconsai/text_summarization\")\n",
    "\n",
    "rag_sumamrizer=summarizer(context_str, max_length=len(context_str)+10, min_length=30, do_sample=False)[0]['summary_text']\n",
    "\n",
    "print(f\"\\n\\nLLM RESPONSE WITH RAG CONTEXT USING Falconsai/text_summarization =\\n{rag_sumamrizer}\")"
   ]
  }
 ],
 "metadata": {
  "availableInstances": [
   {
    "_defaultOrder": 0,
    "_isFastLaunch": true,
    "category": "General purpose",
    "gpuNum": 0,
    "hideHardwareSpecs": false,
    "memoryGiB": 4,
    "name": "ml.t3.medium",
    "vcpuNum": 2
   },
   {
    "_defaultOrder": 1,
    "_isFastLaunch": false,
    "category": "General purpose",
    "gpuNum": 0,
    "hideHardwareSpecs": false,
    "memoryGiB": 8,
    "name": "ml.t3.large",
    "vcpuNum": 2
   },
   {
    "_defaultOrder": 2,
    "_isFastLaunch": false,
    "category": "General purpose",
    "gpuNum": 0,
    "hideHardwareSpecs": false,
    "memoryGiB": 16,
    "name": "ml.t3.xlarge",
    "vcpuNum": 4
   },
   {
    "_defaultOrder": 3,
    "_isFastLaunch": false,
    "category": "General purpose",
    "gpuNum": 0,
    "hideHardwareSpecs": false,
    "memoryGiB": 32,
    "name": "ml.t3.2xlarge",
    "vcpuNum": 8
   },
   {
    "_defaultOrder": 4,
    "_isFastLaunch": true,
    "category": "General purpose",
    "gpuNum": 0,
    "hideHardwareSpecs": false,
    "memoryGiB": 8,
    "name": "ml.m5.large",
    "vcpuNum": 2
   },
   {
    "_defaultOrder": 5,
    "_isFastLaunch": false,
    "category": "General purpose",
    "gpuNum": 0,
    "hideHardwareSpecs": false,
    "memoryGiB": 16,
    "name": "ml.m5.xlarge",
    "vcpuNum": 4
   },
   {
    "_defaultOrder": 6,
    "_isFastLaunch": false,
    "category": "General purpose",
    "gpuNum": 0,
    "hideHardwareSpecs": false,
    "memoryGiB": 32,
    "name": "ml.m5.2xlarge",
    "vcpuNum": 8
   },
   {
    "_defaultOrder": 7,
    "_isFastLaunch": false,
    "category": "General purpose",
    "gpuNum": 0,
    "hideHardwareSpecs": false,
    "memoryGiB": 64,
    "name": "ml.m5.4xlarge",
    "vcpuNum": 16
   },
   {
    "_defaultOrder": 8,
    "_isFastLaunch": false,
    "category": "General purpose",
    "gpuNum": 0,
    "hideHardwareSpecs": false,
    "memoryGiB": 128,
    "name": "ml.m5.8xlarge",
    "vcpuNum": 32
   },
   {
    "_defaultOrder": 9,
    "_isFastLaunch": false,
    "category": "General purpose",
    "gpuNum": 0,
    "hideHardwareSpecs": false,
    "memoryGiB": 192,
    "name": "ml.m5.12xlarge",
    "vcpuNum": 48
   },
   {
    "_defaultOrder": 10,
    "_isFastLaunch": false,
    "category": "General purpose",
    "gpuNum": 0,
    "hideHardwareSpecs": false,
    "memoryGiB": 256,
    "name": "ml.m5.16xlarge",
    "vcpuNum": 64
   },
   {
    "_defaultOrder": 11,
    "_isFastLaunch": false,
    "category": "General purpose",
    "gpuNum": 0,
    "hideHardwareSpecs": false,
    "memoryGiB": 384,
    "name": "ml.m5.24xlarge",
    "vcpuNum": 96
   },
   {
    "_defaultOrder": 12,
    "_isFastLaunch": false,
    "category": "General purpose",
    "gpuNum": 0,
    "hideHardwareSpecs": false,
    "memoryGiB": 8,
    "name": "ml.m5d.large",
    "vcpuNum": 2
   },
   {
    "_defaultOrder": 13,
    "_isFastLaunch": false,
    "category": "General purpose",
    "gpuNum": 0,
    "hideHardwareSpecs": false,
    "memoryGiB": 16,
    "name": "ml.m5d.xlarge",
    "vcpuNum": 4
   },
   {
    "_defaultOrder": 14,
    "_isFastLaunch": false,
    "category": "General purpose",
    "gpuNum": 0,
    "hideHardwareSpecs": false,
    "memoryGiB": 32,
    "name": "ml.m5d.2xlarge",
    "vcpuNum": 8
   },
   {
    "_defaultOrder": 15,
    "_isFastLaunch": false,
    "category": "General purpose",
    "gpuNum": 0,
    "hideHardwareSpecs": false,
    "memoryGiB": 64,
    "name": "ml.m5d.4xlarge",
    "vcpuNum": 16
   },
   {
    "_defaultOrder": 16,
    "_isFastLaunch": false,
    "category": "General purpose",
    "gpuNum": 0,
    "hideHardwareSpecs": false,
    "memoryGiB": 128,
    "name": "ml.m5d.8xlarge",
    "vcpuNum": 32
   },
   {
    "_defaultOrder": 17,
    "_isFastLaunch": false,
    "category": "General purpose",
    "gpuNum": 0,
    "hideHardwareSpecs": false,
    "memoryGiB": 192,
    "name": "ml.m5d.12xlarge",
    "vcpuNum": 48
   },
   {
    "_defaultOrder": 18,
    "_isFastLaunch": false,
    "category": "General purpose",
    "gpuNum": 0,
    "hideHardwareSpecs": false,
    "memoryGiB": 256,
    "name": "ml.m5d.16xlarge",
    "vcpuNum": 64
   },
   {
    "_defaultOrder": 19,
    "_isFastLaunch": false,
    "category": "General purpose",
    "gpuNum": 0,
    "hideHardwareSpecs": false,
    "memoryGiB": 384,
    "name": "ml.m5d.24xlarge",
    "vcpuNum": 96
   },
   {
    "_defaultOrder": 20,
    "_isFastLaunch": false,
    "category": "General purpose",
    "gpuNum": 0,
    "hideHardwareSpecs": true,
    "memoryGiB": 0,
    "name": "ml.geospatial.interactive",
    "supportedImageNames": [
     "sagemaker-geospatial-v1-0"
    ],
    "vcpuNum": 0
   },
   {
    "_defaultOrder": 21,
    "_isFastLaunch": true,
    "category": "Compute optimized",
    "gpuNum": 0,
    "hideHardwareSpecs": false,
    "memoryGiB": 4,
    "name": "ml.c5.large",
    "vcpuNum": 2
   },
   {
    "_defaultOrder": 22,
    "_isFastLaunch": false,
    "category": "Compute optimized",
    "gpuNum": 0,
    "hideHardwareSpecs": false,
    "memoryGiB": 8,
    "name": "ml.c5.xlarge",
    "vcpuNum": 4
   },
   {
    "_defaultOrder": 23,
    "_isFastLaunch": false,
    "category": "Compute optimized",
    "gpuNum": 0,
    "hideHardwareSpecs": false,
    "memoryGiB": 16,
    "name": "ml.c5.2xlarge",
    "vcpuNum": 8
   },
   {
    "_defaultOrder": 24,
    "_isFastLaunch": false,
    "category": "Compute optimized",
    "gpuNum": 0,
    "hideHardwareSpecs": false,
    "memoryGiB": 32,
    "name": "ml.c5.4xlarge",
    "vcpuNum": 16
   },
   {
    "_defaultOrder": 25,
    "_isFastLaunch": false,
    "category": "Compute optimized",
    "gpuNum": 0,
    "hideHardwareSpecs": false,
    "memoryGiB": 72,
    "name": "ml.c5.9xlarge",
    "vcpuNum": 36
   },
   {
    "_defaultOrder": 26,
    "_isFastLaunch": false,
    "category": "Compute optimized",
    "gpuNum": 0,
    "hideHardwareSpecs": false,
    "memoryGiB": 96,
    "name": "ml.c5.12xlarge",
    "vcpuNum": 48
   },
   {
    "_defaultOrder": 27,
    "_isFastLaunch": false,
    "category": "Compute optimized",
    "gpuNum": 0,
    "hideHardwareSpecs": false,
    "memoryGiB": 144,
    "name": "ml.c5.18xlarge",
    "vcpuNum": 72
   },
   {
    "_defaultOrder": 28,
    "_isFastLaunch": false,
    "category": "Compute optimized",
    "gpuNum": 0,
    "hideHardwareSpecs": false,
    "memoryGiB": 192,
    "name": "ml.c5.24xlarge",
    "vcpuNum": 96
   },
   {
    "_defaultOrder": 29,
    "_isFastLaunch": true,
    "category": "Accelerated computing",
    "gpuNum": 1,
    "hideHardwareSpecs": false,
    "memoryGiB": 16,
    "name": "ml.g4dn.xlarge",
    "vcpuNum": 4
   },
   {
    "_defaultOrder": 30,
    "_isFastLaunch": false,
    "category": "Accelerated computing",
    "gpuNum": 1,
    "hideHardwareSpecs": false,
    "memoryGiB": 32,
    "name": "ml.g4dn.2xlarge",
    "vcpuNum": 8
   },
   {
    "_defaultOrder": 31,
    "_isFastLaunch": false,
    "category": "Accelerated computing",
    "gpuNum": 1,
    "hideHardwareSpecs": false,
    "memoryGiB": 64,
    "name": "ml.g4dn.4xlarge",
    "vcpuNum": 16
   },
   {
    "_defaultOrder": 32,
    "_isFastLaunch": false,
    "category": "Accelerated computing",
    "gpuNum": 1,
    "hideHardwareSpecs": false,
    "memoryGiB": 128,
    "name": "ml.g4dn.8xlarge",
    "vcpuNum": 32
   },
   {
    "_defaultOrder": 33,
    "_isFastLaunch": false,
    "category": "Accelerated computing",
    "gpuNum": 4,
    "hideHardwareSpecs": false,
    "memoryGiB": 192,
    "name": "ml.g4dn.12xlarge",
    "vcpuNum": 48
   },
   {
    "_defaultOrder": 34,
    "_isFastLaunch": false,
    "category": "Accelerated computing",
    "gpuNum": 1,
    "hideHardwareSpecs": false,
    "memoryGiB": 256,
    "name": "ml.g4dn.16xlarge",
    "vcpuNum": 64
   },
   {
    "_defaultOrder": 35,
    "_isFastLaunch": false,
    "category": "Accelerated computing",
    "gpuNum": 1,
    "hideHardwareSpecs": false,
    "memoryGiB": 61,
    "name": "ml.p3.2xlarge",
    "vcpuNum": 8
   },
   {
    "_defaultOrder": 36,
    "_isFastLaunch": false,
    "category": "Accelerated computing",
    "gpuNum": 4,
    "hideHardwareSpecs": false,
    "memoryGiB": 244,
    "name": "ml.p3.8xlarge",
    "vcpuNum": 32
   },
   {
    "_defaultOrder": 37,
    "_isFastLaunch": false,
    "category": "Accelerated computing",
    "gpuNum": 8,
    "hideHardwareSpecs": false,
    "memoryGiB": 488,
    "name": "ml.p3.16xlarge",
    "vcpuNum": 64
   },
   {
    "_defaultOrder": 38,
    "_isFastLaunch": false,
    "category": "Accelerated computing",
    "gpuNum": 8,
    "hideHardwareSpecs": false,
    "memoryGiB": 768,
    "name": "ml.p3dn.24xlarge",
    "vcpuNum": 96
   },
   {
    "_defaultOrder": 39,
    "_isFastLaunch": false,
    "category": "Memory Optimized",
    "gpuNum": 0,
    "hideHardwareSpecs": false,
    "memoryGiB": 16,
    "name": "ml.r5.large",
    "vcpuNum": 2
   },
   {
    "_defaultOrder": 40,
    "_isFastLaunch": false,
    "category": "Memory Optimized",
    "gpuNum": 0,
    "hideHardwareSpecs": false,
    "memoryGiB": 32,
    "name": "ml.r5.xlarge",
    "vcpuNum": 4
   },
   {
    "_defaultOrder": 41,
    "_isFastLaunch": false,
    "category": "Memory Optimized",
    "gpuNum": 0,
    "hideHardwareSpecs": false,
    "memoryGiB": 64,
    "name": "ml.r5.2xlarge",
    "vcpuNum": 8
   },
   {
    "_defaultOrder": 42,
    "_isFastLaunch": false,
    "category": "Memory Optimized",
    "gpuNum": 0,
    "hideHardwareSpecs": false,
    "memoryGiB": 128,
    "name": "ml.r5.4xlarge",
    "vcpuNum": 16
   },
   {
    "_defaultOrder": 43,
    "_isFastLaunch": false,
    "category": "Memory Optimized",
    "gpuNum": 0,
    "hideHardwareSpecs": false,
    "memoryGiB": 256,
    "name": "ml.r5.8xlarge",
    "vcpuNum": 32
   },
   {
    "_defaultOrder": 44,
    "_isFastLaunch": false,
    "category": "Memory Optimized",
    "gpuNum": 0,
    "hideHardwareSpecs": false,
    "memoryGiB": 384,
    "name": "ml.r5.12xlarge",
    "vcpuNum": 48
   },
   {
    "_defaultOrder": 45,
    "_isFastLaunch": false,
    "category": "Memory Optimized",
    "gpuNum": 0,
    "hideHardwareSpecs": false,
    "memoryGiB": 512,
    "name": "ml.r5.16xlarge",
    "vcpuNum": 64
   },
   {
    "_defaultOrder": 46,
    "_isFastLaunch": false,
    "category": "Memory Optimized",
    "gpuNum": 0,
    "hideHardwareSpecs": false,
    "memoryGiB": 768,
    "name": "ml.r5.24xlarge",
    "vcpuNum": 96
   },
   {
    "_defaultOrder": 47,
    "_isFastLaunch": false,
    "category": "Accelerated computing",
    "gpuNum": 1,
    "hideHardwareSpecs": false,
    "memoryGiB": 16,
    "name": "ml.g5.xlarge",
    "vcpuNum": 4
   },
   {
    "_defaultOrder": 48,
    "_isFastLaunch": false,
    "category": "Accelerated computing",
    "gpuNum": 1,
    "hideHardwareSpecs": false,
    "memoryGiB": 32,
    "name": "ml.g5.2xlarge",
    "vcpuNum": 8
   },
   {
    "_defaultOrder": 49,
    "_isFastLaunch": false,
    "category": "Accelerated computing",
    "gpuNum": 1,
    "hideHardwareSpecs": false,
    "memoryGiB": 64,
    "name": "ml.g5.4xlarge",
    "vcpuNum": 16
   },
   {
    "_defaultOrder": 50,
    "_isFastLaunch": false,
    "category": "Accelerated computing",
    "gpuNum": 1,
    "hideHardwareSpecs": false,
    "memoryGiB": 128,
    "name": "ml.g5.8xlarge",
    "vcpuNum": 32
   },
   {
    "_defaultOrder": 51,
    "_isFastLaunch": false,
    "category": "Accelerated computing",
    "gpuNum": 1,
    "hideHardwareSpecs": false,
    "memoryGiB": 256,
    "name": "ml.g5.16xlarge",
    "vcpuNum": 64
   },
   {
    "_defaultOrder": 52,
    "_isFastLaunch": false,
    "category": "Accelerated computing",
    "gpuNum": 4,
    "hideHardwareSpecs": false,
    "memoryGiB": 192,
    "name": "ml.g5.12xlarge",
    "vcpuNum": 48
   },
   {
    "_defaultOrder": 53,
    "_isFastLaunch": false,
    "category": "Accelerated computing",
    "gpuNum": 4,
    "hideHardwareSpecs": false,
    "memoryGiB": 384,
    "name": "ml.g5.24xlarge",
    "vcpuNum": 96
   },
   {
    "_defaultOrder": 54,
    "_isFastLaunch": false,
    "category": "Accelerated computing",
    "gpuNum": 8,
    "hideHardwareSpecs": false,
    "memoryGiB": 768,
    "name": "ml.g5.48xlarge",
    "vcpuNum": 192
   },
   {
    "_defaultOrder": 55,
    "_isFastLaunch": false,
    "category": "Accelerated computing",
    "gpuNum": 8,
    "hideHardwareSpecs": false,
    "memoryGiB": 1152,
    "name": "ml.p4d.24xlarge",
    "vcpuNum": 96
   },
   {
    "_defaultOrder": 56,
    "_isFastLaunch": false,
    "category": "Accelerated computing",
    "gpuNum": 8,
    "hideHardwareSpecs": false,
    "memoryGiB": 1152,
    "name": "ml.p4de.24xlarge",
    "vcpuNum": 96
   },
   {
    "_defaultOrder": 57,
    "_isFastLaunch": false,
    "category": "Accelerated computing",
    "gpuNum": 0,
    "hideHardwareSpecs": false,
    "memoryGiB": 32,
    "name": "ml.trn1.2xlarge",
    "vcpuNum": 8
   },
   {
    "_defaultOrder": 58,
    "_isFastLaunch": false,
    "category": "Accelerated computing",
    "gpuNum": 0,
    "hideHardwareSpecs": false,
    "memoryGiB": 512,
    "name": "ml.trn1.32xlarge",
    "vcpuNum": 128
   },
   {
    "_defaultOrder": 59,
    "_isFastLaunch": false,
    "category": "Accelerated computing",
    "gpuNum": 0,
    "hideHardwareSpecs": false,
    "memoryGiB": 512,
    "name": "ml.trn1n.32xlarge",
    "vcpuNum": 128
   }
  ],
  "instance_type": "ml.m5.large",
  "kernelspec": {
   "display_name": "Python 3 (Data Science 3.0)",
   "language": "python",
   "name": "python3__SAGEMAKER_INTERNAL__arn:aws:sagemaker:us-west-2:236514542706:image/sagemaker-data-science-310-v1"
  },
  "language_info": {
   "codemirror_mode": {
    "name": "ipython",
    "version": 3
   },
   "file_extension": ".py",
   "mimetype": "text/x-python",
   "name": "python",
   "nbconvert_exporter": "python",
   "pygments_lexer": "ipython3",
   "version": "3.10.6"
  }
 },
 "nbformat": 4,
 "nbformat_minor": 5
}
